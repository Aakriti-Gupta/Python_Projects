{
 "cells": [
  {
   "cell_type": "code",
   "execution_count": 2,
   "metadata": {},
   "outputs": [],
   "source": [
    "import nltk\n",
    "import numpy as np\n",
    "import random\n",
    "\n",
    "from nltk.book import *"
   ]
  },
  {
   "cell_type": "code",
   "execution_count": 3,
   "metadata": {
    "collapsed": true
   },
   "outputs": [],
   "source": [
    "text_dict = {'1':'Moby Dick by Herman Melville','2': 'Sense and Sensibility by Jane Austen',\\\n",
    "            '3':'The Man Who Was Thursday by G.K. Chesterton'}"
   ]
  },
  {
   "cell_type": "code",
   "execution_count": 11,
   "metadata": {
    "collapsed": true
   },
   "outputs": [],
   "source": [
    "def data_input():\n",
    "\n",
    "    print(\"Which text do you want to convert into a Dadaist poem?\")\n",
    "    print()\n",
    "    print(\"1. \" + text_dict['1'])\n",
    "    print(\"2. \" + text_dict['2'])\n",
    "    print(\"3. \" + text_dict['3'])\n",
    "    print()\n",
    "    print(\"Please enter a value from 1 to 3:: \\n\\t\\t\")\n",
    "    text_no = int(input())\n",
    "    return(text_no)"
   ]
  },
  {
   "cell_type": "code",
   "execution_count": 5,
   "metadata": {
    "collapsed": true
   },
   "outputs": [],
   "source": [
    "def text_pick(no):\n",
    "    if no == 1:\n",
    "        text=text1\n",
    "    elif no == 2:\n",
    "        text=text2\n",
    "    else:\n",
    "        text=text\n",
    "        \n",
    "    return(text)   "
   ]
  },
  {
   "cell_type": "code",
   "execution_count": 6,
   "metadata": {
    "collapsed": true
   },
   "outputs": [],
   "source": [
    "def get_tokens(text):\n",
    "    text_tokens = [w.lower() for w in list(set(text)) if w.isalpha()]\n",
    "    return(text_tokens)"
   ]
  },
  {
   "cell_type": "code",
   "execution_count": 7,
   "metadata": {
    "collapsed": true
   },
   "outputs": [],
   "source": [
    "def rand_gen(num_words,text):\n",
    "    rand_list=[]\n",
    "    for i in range(num_words):\n",
    "        rand_list.append(random.randint(0,len(get_tokens(text))))\n",
    "    return(rand_list)"
   ]
  },
  {
   "cell_type": "code",
   "execution_count": 16,
   "metadata": {
    "collapsed": true
   },
   "outputs": [],
   "source": [
    "def print_poem(text_no,text,num_lines,num_words):\n",
    "    line_list=[]\n",
    "    for i in range(num_lines):\n",
    "        word_list=[]\n",
    "        rand_list = rand_gen(num_words,text)\n",
    "        for j in rand_list:\n",
    "            word_list.append(get_tokens(text)[j])\n",
    "        line_list.append(word_list)\n",
    "        \n",
    "    print(\"You have converted {}\".format(text_dict[str(text_no)]),\"to: \\n \")\n",
    "    \n",
    "    for i in range(len(line_list)):\n",
    "        print(\" \".join(line_list[i]))"
   ]
  },
  {
   "cell_type": "code",
   "execution_count": 17,
   "metadata": {
    "collapsed": true
   },
   "outputs": [],
   "source": [
    "def run_dada():\n",
    "    \n",
    "    text_no = data_input()\n",
    "    \n",
    "    print(\"\\nYou have chosen to convert\",text_dict[str(text_no)],\"to a modern masterpiece\\n\")\n",
    "    \n",
    "    text = text_pick(text_no)\n",
    "    \n",
    "    print(\"How many lines do you want your poem to be?\\n\")\n",
    "    num_lines = int(input())\n",
    "    print()\n",
    "\n",
    "    print(\"How many words do you want on each line?\\n\")\n",
    "    num_words = int(input())\n",
    "    print()\n",
    "    \n",
    "    print_poem(text_no,text,num_lines,num_words)\n",
    "    "
   ]
  },
  {
   "cell_type": "code",
   "execution_count": 21,
   "metadata": {},
   "outputs": [
    {
     "name": "stdout",
     "output_type": "stream",
     "text": [
      "Which text do you want to convert into a Dadaist poem?\n",
      "\n",
      "1. Moby Dick by Herman Melville\n",
      "2. Sense and Sensibility by Jane Austen\n",
      "3. The Man Who Was Thursday by G.K. Chesterton\n",
      "\n",
      "Please enter a value from 1 to 3:: \n",
      "\t\t\n",
      "2\n",
      "\n",
      "You have chosen to convert Sense and Sensibility by Jane Austen to a modern masterpiece\n",
      "\n",
      "How many lines do you want your poem to be?\n",
      "\n",
      "8\n",
      "\n",
      "How many words do you want on each line?\n",
      "\n",
      "8\n",
      "\n",
      "You have converted Sense and Sensibility by Jane Austen to: \n",
      " \n",
      "anxiety seclude saint brush disposal theirs amongst horse\n",
      "moderate uncommon distance generous artful commissioned purpose wasted\n",
      "slighting sixpence impracticable gladly october try away awaking\n",
      "accounts result i promote interruption fox indecorous baby\n",
      "learn relation look undervalued plainly exhilarated consistent simple\n",
      "life reconciled agree concealing approached bear unitedly because\n",
      "cloud thus considering withstood four venturing requesting wonder\n",
      "restraint tumbling your unthought rendering lady explanations hussy\n"
     ]
    }
   ],
   "source": [
    "run_dada()"
   ]
  },
  {
   "cell_type": "code",
   "execution_count": null,
   "metadata": {
    "collapsed": true
   },
   "outputs": [],
   "source": []
  }
 ],
 "metadata": {
  "kernelspec": {
   "display_name": "Python 3",
   "language": "python",
   "name": "python3"
  },
  "language_info": {
   "codemirror_mode": {
    "name": "ipython",
    "version": 3
   },
   "file_extension": ".py",
   "mimetype": "text/x-python",
   "name": "python",
   "nbconvert_exporter": "python",
   "pygments_lexer": "ipython3",
   "version": "3.6.3"
  }
 },
 "nbformat": 4,
 "nbformat_minor": 2
}
